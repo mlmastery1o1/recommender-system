{
 "cells": [
  {
   "cell_type": "markdown",
   "id": "derived-thong",
   "metadata": {},
   "source": [
    "### Libraries Import "
   ]
  },
  {
   "cell_type": "code",
   "execution_count": 1,
   "id": "controlled-mixer",
   "metadata": {},
   "outputs": [],
   "source": [
    "import pandas as pd\n",
    "import numpy as np"
   ]
  },
  {
   "cell_type": "markdown",
   "id": "extraordinary-insurance",
   "metadata": {},
   "source": [
    "### Data Import "
   ]
  },
  {
   "cell_type": "code",
   "execution_count": 2,
   "id": "possible-latex",
   "metadata": {},
   "outputs": [],
   "source": [
    "df = pd.read_csv('amz_data.csv')"
   ]
  },
  {
   "cell_type": "code",
   "execution_count": 3,
   "id": "exterior-nation",
   "metadata": {
    "scrolled": true
   },
   "outputs": [
    {
     "data": {
      "text/html": [
       "<div>\n",
       "<style scoped>\n",
       "    .dataframe tbody tr th:only-of-type {\n",
       "        vertical-align: middle;\n",
       "    }\n",
       "\n",
       "    .dataframe tbody tr th {\n",
       "        vertical-align: top;\n",
       "    }\n",
       "\n",
       "    .dataframe thead th {\n",
       "        text-align: right;\n",
       "    }\n",
       "</style>\n",
       "<table border=\"1\" class=\"dataframe\">\n",
       "  <thead>\n",
       "    <tr style=\"text-align: right;\">\n",
       "      <th></th>\n",
       "      <th>user_id</th>\n",
       "      <th>Movie1</th>\n",
       "      <th>Movie2</th>\n",
       "      <th>Movie3</th>\n",
       "      <th>Movie4</th>\n",
       "      <th>Movie5</th>\n",
       "      <th>Movie6</th>\n",
       "      <th>Movie7</th>\n",
       "      <th>Movie8</th>\n",
       "      <th>Movie9</th>\n",
       "      <th>...</th>\n",
       "      <th>Movie197</th>\n",
       "      <th>Movie198</th>\n",
       "      <th>Movie199</th>\n",
       "      <th>Movie200</th>\n",
       "      <th>Movie201</th>\n",
       "      <th>Movie202</th>\n",
       "      <th>Movie203</th>\n",
       "      <th>Movie204</th>\n",
       "      <th>Movie205</th>\n",
       "      <th>Movie206</th>\n",
       "    </tr>\n",
       "  </thead>\n",
       "  <tbody>\n",
       "    <tr>\n",
       "      <th>0</th>\n",
       "      <td>A3R5OBKS7OM2IR</td>\n",
       "      <td>5.0</td>\n",
       "      <td>5.0</td>\n",
       "      <td>NaN</td>\n",
       "      <td>NaN</td>\n",
       "      <td>NaN</td>\n",
       "      <td>NaN</td>\n",
       "      <td>NaN</td>\n",
       "      <td>NaN</td>\n",
       "      <td>NaN</td>\n",
       "      <td>...</td>\n",
       "      <td>NaN</td>\n",
       "      <td>NaN</td>\n",
       "      <td>NaN</td>\n",
       "      <td>NaN</td>\n",
       "      <td>NaN</td>\n",
       "      <td>NaN</td>\n",
       "      <td>NaN</td>\n",
       "      <td>NaN</td>\n",
       "      <td>NaN</td>\n",
       "      <td>NaN</td>\n",
       "    </tr>\n",
       "    <tr>\n",
       "      <th>1</th>\n",
       "      <td>AH3QC2PC1VTGP</td>\n",
       "      <td>NaN</td>\n",
       "      <td>NaN</td>\n",
       "      <td>2.0</td>\n",
       "      <td>NaN</td>\n",
       "      <td>NaN</td>\n",
       "      <td>NaN</td>\n",
       "      <td>NaN</td>\n",
       "      <td>NaN</td>\n",
       "      <td>NaN</td>\n",
       "      <td>...</td>\n",
       "      <td>NaN</td>\n",
       "      <td>NaN</td>\n",
       "      <td>NaN</td>\n",
       "      <td>NaN</td>\n",
       "      <td>NaN</td>\n",
       "      <td>NaN</td>\n",
       "      <td>NaN</td>\n",
       "      <td>NaN</td>\n",
       "      <td>NaN</td>\n",
       "      <td>NaN</td>\n",
       "    </tr>\n",
       "    <tr>\n",
       "      <th>2</th>\n",
       "      <td>A3LKP6WPMP9UKX</td>\n",
       "      <td>NaN</td>\n",
       "      <td>NaN</td>\n",
       "      <td>NaN</td>\n",
       "      <td>5.0</td>\n",
       "      <td>NaN</td>\n",
       "      <td>NaN</td>\n",
       "      <td>NaN</td>\n",
       "      <td>NaN</td>\n",
       "      <td>NaN</td>\n",
       "      <td>...</td>\n",
       "      <td>NaN</td>\n",
       "      <td>NaN</td>\n",
       "      <td>NaN</td>\n",
       "      <td>NaN</td>\n",
       "      <td>NaN</td>\n",
       "      <td>NaN</td>\n",
       "      <td>NaN</td>\n",
       "      <td>NaN</td>\n",
       "      <td>NaN</td>\n",
       "      <td>NaN</td>\n",
       "    </tr>\n",
       "    <tr>\n",
       "      <th>3</th>\n",
       "      <td>AVIY68KEPQ5ZD</td>\n",
       "      <td>NaN</td>\n",
       "      <td>NaN</td>\n",
       "      <td>NaN</td>\n",
       "      <td>5.0</td>\n",
       "      <td>NaN</td>\n",
       "      <td>NaN</td>\n",
       "      <td>NaN</td>\n",
       "      <td>NaN</td>\n",
       "      <td>NaN</td>\n",
       "      <td>...</td>\n",
       "      <td>NaN</td>\n",
       "      <td>NaN</td>\n",
       "      <td>NaN</td>\n",
       "      <td>NaN</td>\n",
       "      <td>NaN</td>\n",
       "      <td>NaN</td>\n",
       "      <td>NaN</td>\n",
       "      <td>NaN</td>\n",
       "      <td>NaN</td>\n",
       "      <td>NaN</td>\n",
       "    </tr>\n",
       "    <tr>\n",
       "      <th>4</th>\n",
       "      <td>A1CV1WROP5KTTW</td>\n",
       "      <td>NaN</td>\n",
       "      <td>NaN</td>\n",
       "      <td>NaN</td>\n",
       "      <td>NaN</td>\n",
       "      <td>5.0</td>\n",
       "      <td>NaN</td>\n",
       "      <td>NaN</td>\n",
       "      <td>NaN</td>\n",
       "      <td>NaN</td>\n",
       "      <td>...</td>\n",
       "      <td>NaN</td>\n",
       "      <td>NaN</td>\n",
       "      <td>NaN</td>\n",
       "      <td>NaN</td>\n",
       "      <td>NaN</td>\n",
       "      <td>NaN</td>\n",
       "      <td>NaN</td>\n",
       "      <td>NaN</td>\n",
       "      <td>NaN</td>\n",
       "      <td>NaN</td>\n",
       "    </tr>\n",
       "  </tbody>\n",
       "</table>\n",
       "<p>5 rows × 207 columns</p>\n",
       "</div>"
      ],
      "text/plain": [
       "          user_id  Movie1  Movie2  Movie3  Movie4  Movie5  Movie6  Movie7  \\\n",
       "0  A3R5OBKS7OM2IR     5.0     5.0     NaN     NaN     NaN     NaN     NaN   \n",
       "1   AH3QC2PC1VTGP     NaN     NaN     2.0     NaN     NaN     NaN     NaN   \n",
       "2  A3LKP6WPMP9UKX     NaN     NaN     NaN     5.0     NaN     NaN     NaN   \n",
       "3   AVIY68KEPQ5ZD     NaN     NaN     NaN     5.0     NaN     NaN     NaN   \n",
       "4  A1CV1WROP5KTTW     NaN     NaN     NaN     NaN     5.0     NaN     NaN   \n",
       "\n",
       "   Movie8  Movie9  ...  Movie197  Movie198  Movie199  Movie200  Movie201  \\\n",
       "0     NaN     NaN  ...       NaN       NaN       NaN       NaN       NaN   \n",
       "1     NaN     NaN  ...       NaN       NaN       NaN       NaN       NaN   \n",
       "2     NaN     NaN  ...       NaN       NaN       NaN       NaN       NaN   \n",
       "3     NaN     NaN  ...       NaN       NaN       NaN       NaN       NaN   \n",
       "4     NaN     NaN  ...       NaN       NaN       NaN       NaN       NaN   \n",
       "\n",
       "   Movie202  Movie203  Movie204  Movie205  Movie206  \n",
       "0       NaN       NaN       NaN       NaN       NaN  \n",
       "1       NaN       NaN       NaN       NaN       NaN  \n",
       "2       NaN       NaN       NaN       NaN       NaN  \n",
       "3       NaN       NaN       NaN       NaN       NaN  \n",
       "4       NaN       NaN       NaN       NaN       NaN  \n",
       "\n",
       "[5 rows x 207 columns]"
      ]
     },
     "execution_count": 3,
     "metadata": {},
     "output_type": "execute_result"
    }
   ],
   "source": [
    "df.head()"
   ]
  },
  {
   "cell_type": "markdown",
   "id": "american-madonna",
   "metadata": {},
   "source": [
    "### Average rating of each movie"
   ]
  },
  {
   "cell_type": "code",
   "execution_count": 4,
   "id": "natural-prevention",
   "metadata": {},
   "outputs": [
    {
     "data": {
      "text/plain": [
       "Movie1      5.000000\n",
       "Movie2      5.000000\n",
       "Movie3      2.000000\n",
       "Movie4      5.000000\n",
       "Movie5      4.103448\n",
       "              ...   \n",
       "Movie202    4.333333\n",
       "Movie203    3.000000\n",
       "Movie204    4.375000\n",
       "Movie205    4.628571\n",
       "Movie206    4.923077\n",
       "Length: 206, dtype: float64"
      ]
     },
     "execution_count": 4,
     "metadata": {},
     "output_type": "execute_result"
    }
   ],
   "source": [
    "# Average rating of each movie\n",
    "movies = df.iloc[:,1:207]\n",
    "movies.mean()"
   ]
  },
  {
   "cell_type": "code",
   "execution_count": 5,
   "id": "choice-sailing",
   "metadata": {},
   "outputs": [],
   "source": [
    "data= df.copy()"
   ]
  },
  {
   "cell_type": "markdown",
   "id": "adaptive-toyota",
   "metadata": {},
   "source": [
    "### Merging colums into movies and rating"
   ]
  },
  {
   "cell_type": "code",
   "execution_count": 6,
   "id": "protecting-baltimore",
   "metadata": {},
   "outputs": [],
   "source": [
    "df2 = pd.melt(df, id_vars=\"user_id\", var_name=\"movie_id\", value_name=\"rating\")"
   ]
  },
  {
   "cell_type": "code",
   "execution_count": 7,
   "id": "fleet-cleaner",
   "metadata": {
    "scrolled": true
   },
   "outputs": [
    {
     "data": {
      "text/html": [
       "<div>\n",
       "<style scoped>\n",
       "    .dataframe tbody tr th:only-of-type {\n",
       "        vertical-align: middle;\n",
       "    }\n",
       "\n",
       "    .dataframe tbody tr th {\n",
       "        vertical-align: top;\n",
       "    }\n",
       "\n",
       "    .dataframe thead th {\n",
       "        text-align: right;\n",
       "    }\n",
       "</style>\n",
       "<table border=\"1\" class=\"dataframe\">\n",
       "  <thead>\n",
       "    <tr style=\"text-align: right;\">\n",
       "      <th></th>\n",
       "      <th>user_id</th>\n",
       "      <th>movie_id</th>\n",
       "      <th>rating</th>\n",
       "    </tr>\n",
       "  </thead>\n",
       "  <tbody>\n",
       "    <tr>\n",
       "      <th>0</th>\n",
       "      <td>A3R5OBKS7OM2IR</td>\n",
       "      <td>Movie1</td>\n",
       "      <td>5.0</td>\n",
       "    </tr>\n",
       "    <tr>\n",
       "      <th>1</th>\n",
       "      <td>AH3QC2PC1VTGP</td>\n",
       "      <td>Movie1</td>\n",
       "      <td>NaN</td>\n",
       "    </tr>\n",
       "    <tr>\n",
       "      <th>2</th>\n",
       "      <td>A3LKP6WPMP9UKX</td>\n",
       "      <td>Movie1</td>\n",
       "      <td>NaN</td>\n",
       "    </tr>\n",
       "    <tr>\n",
       "      <th>3</th>\n",
       "      <td>AVIY68KEPQ5ZD</td>\n",
       "      <td>Movie1</td>\n",
       "      <td>NaN</td>\n",
       "    </tr>\n",
       "    <tr>\n",
       "      <th>4</th>\n",
       "      <td>A1CV1WROP5KTTW</td>\n",
       "      <td>Movie1</td>\n",
       "      <td>NaN</td>\n",
       "    </tr>\n",
       "  </tbody>\n",
       "</table>\n",
       "</div>"
      ],
      "text/plain": [
       "          user_id movie_id  rating\n",
       "0  A3R5OBKS7OM2IR   Movie1     5.0\n",
       "1   AH3QC2PC1VTGP   Movie1     NaN\n",
       "2  A3LKP6WPMP9UKX   Movie1     NaN\n",
       "3   AVIY68KEPQ5ZD   Movie1     NaN\n",
       "4  A1CV1WROP5KTTW   Movie1     NaN"
      ]
     },
     "execution_count": 7,
     "metadata": {},
     "output_type": "execute_result"
    }
   ],
   "source": [
    "df2.head()"
   ]
  },
  {
   "cell_type": "markdown",
   "id": "exterior-shopper",
   "metadata": {},
   "source": [
    "### Dropping the null values"
   ]
  },
  {
   "cell_type": "code",
   "execution_count": 8,
   "id": "representative-gasoline",
   "metadata": {},
   "outputs": [],
   "source": [
    "df2.dropna(inplace = True)"
   ]
  },
  {
   "cell_type": "code",
   "execution_count": 9,
   "id": "powered-dependence",
   "metadata": {
    "scrolled": true
   },
   "outputs": [
    {
     "data": {
      "text/html": [
       "<div>\n",
       "<style scoped>\n",
       "    .dataframe tbody tr th:only-of-type {\n",
       "        vertical-align: middle;\n",
       "    }\n",
       "\n",
       "    .dataframe tbody tr th {\n",
       "        vertical-align: top;\n",
       "    }\n",
       "\n",
       "    .dataframe thead th {\n",
       "        text-align: right;\n",
       "    }\n",
       "</style>\n",
       "<table border=\"1\" class=\"dataframe\">\n",
       "  <thead>\n",
       "    <tr style=\"text-align: right;\">\n",
       "      <th></th>\n",
       "      <th>user_id</th>\n",
       "      <th>movie_id</th>\n",
       "      <th>rating</th>\n",
       "    </tr>\n",
       "  </thead>\n",
       "  <tbody>\n",
       "    <tr>\n",
       "      <th>0</th>\n",
       "      <td>A3R5OBKS7OM2IR</td>\n",
       "      <td>Movie1</td>\n",
       "      <td>5.0</td>\n",
       "    </tr>\n",
       "    <tr>\n",
       "      <th>4848</th>\n",
       "      <td>A3R5OBKS7OM2IR</td>\n",
       "      <td>Movie2</td>\n",
       "      <td>5.0</td>\n",
       "    </tr>\n",
       "    <tr>\n",
       "      <th>9697</th>\n",
       "      <td>AH3QC2PC1VTGP</td>\n",
       "      <td>Movie3</td>\n",
       "      <td>2.0</td>\n",
       "    </tr>\n",
       "    <tr>\n",
       "      <th>14546</th>\n",
       "      <td>A3LKP6WPMP9UKX</td>\n",
       "      <td>Movie4</td>\n",
       "      <td>5.0</td>\n",
       "    </tr>\n",
       "    <tr>\n",
       "      <th>14547</th>\n",
       "      <td>AVIY68KEPQ5ZD</td>\n",
       "      <td>Movie4</td>\n",
       "      <td>5.0</td>\n",
       "    </tr>\n",
       "  </tbody>\n",
       "</table>\n",
       "</div>"
      ],
      "text/plain": [
       "              user_id movie_id  rating\n",
       "0      A3R5OBKS7OM2IR   Movie1     5.0\n",
       "4848   A3R5OBKS7OM2IR   Movie2     5.0\n",
       "9697    AH3QC2PC1VTGP   Movie3     2.0\n",
       "14546  A3LKP6WPMP9UKX   Movie4     5.0\n",
       "14547   AVIY68KEPQ5ZD   Movie4     5.0"
      ]
     },
     "execution_count": 9,
     "metadata": {},
     "output_type": "execute_result"
    }
   ],
   "source": [
    "df2.head()"
   ]
  },
  {
   "cell_type": "markdown",
   "id": "commercial-stocks",
   "metadata": {},
   "source": [
    "### n_user and n_movies for matrix creation"
   ]
  },
  {
   "cell_type": "code",
   "execution_count": 10,
   "id": "changed-polish",
   "metadata": {},
   "outputs": [],
   "source": [
    "n_user = df2['user_id'].unique().shape[0]\n",
    "n_movies = df2['movie_id'].unique().shape[0]"
   ]
  },
  {
   "cell_type": "code",
   "execution_count": 11,
   "id": "color-rings",
   "metadata": {},
   "outputs": [
    {
     "data": {
      "text/plain": [
       "(4848, 206)"
      ]
     },
     "execution_count": 11,
     "metadata": {},
     "output_type": "execute_result"
    }
   ],
   "source": [
    "n_user, n_movies"
   ]
  },
  {
   "cell_type": "code",
   "execution_count": 13,
   "id": "buried-listening",
   "metadata": {},
   "outputs": [
    {
     "data": {
      "text/plain": [
       "0        Movie1\n",
       "4848     Movie2\n",
       "14546    Movie4\n",
       "14547    Movie4\n",
       "19396    Movie5\n",
       "Name: movie_id, dtype: object"
      ]
     },
     "execution_count": 13,
     "metadata": {},
     "output_type": "execute_result"
    }
   ],
   "source": [
    "movies_w_ratings = df2.loc[df2['rating'] == df2['rating'].max(), 'movie_id']\n",
    "movies_w_ratings[0:5]"
   ]
  },
  {
   "cell_type": "code",
   "execution_count": 25,
   "id": "continued-decimal",
   "metadata": {},
   "outputs": [
    {
     "data": {
      "text/plain": [
       "Movie127    2313\n",
       "Movie140     578\n",
       "Movie16      320\n",
       "Movie103     272\n",
       "Movie29      243\n",
       "            ... \n",
       "Movie177       1\n",
       "Movie149       1\n",
       "Movie203       1\n",
       "Movie47        1\n",
       "Movie147       1\n",
       "Name: movie_id, Length: 206, dtype: int64"
      ]
     },
     "execution_count": 25,
     "metadata": {},
     "output_type": "execute_result"
    }
   ],
   "source": [
    "movie_reviews_count = df2['movie_id'].value_counts()\n",
    "movie_reviews_count"
   ]
  },
  {
   "cell_type": "markdown",
   "id": "heard-companion",
   "metadata": {},
   "source": [
    "### formatting movies column"
   ]
  },
  {
   "cell_type": "code",
   "execution_count": null,
   "id": "superior-event",
   "metadata": {},
   "outputs": [],
   "source": [
    "df2['movie_id'] = df2['movie_id'].map(lambda x: x.lstrip('Movie').rstrip('aAbBcC'))"
   ]
  },
  {
   "cell_type": "code",
   "execution_count": null,
   "id": "blond-recording",
   "metadata": {},
   "outputs": [],
   "source": [
    "df2['movie_id'] = df2['movie_id'].astype(int)"
   ]
  },
  {
   "cell_type": "code",
   "execution_count": null,
   "id": "fresh-collapse",
   "metadata": {
    "scrolled": false
   },
   "outputs": [],
   "source": [
    "df2.dtypes"
   ]
  },
  {
   "cell_type": "markdown",
   "id": "professional-justice",
   "metadata": {},
   "source": [
    "### List of unique movies and users "
   ]
  },
  {
   "cell_type": "code",
   "execution_count": null,
   "id": "convenient-monster",
   "metadata": {},
   "outputs": [],
   "source": [
    "movie_list=df2.movie_id.unique()"
   ]
  },
  {
   "cell_type": "code",
   "execution_count": null,
   "id": "palestinian-differential",
   "metadata": {},
   "outputs": [],
   "source": [
    "user_list=df.user_id.unique()"
   ]
  },
  {
   "cell_type": "code",
   "execution_count": null,
   "id": "large-maximum",
   "metadata": {},
   "outputs": [],
   "source": [
    "movie_list"
   ]
  },
  {
   "cell_type": "code",
   "execution_count": null,
   "id": "breathing-actress",
   "metadata": {
    "scrolled": true
   },
   "outputs": [],
   "source": [
    "user_list"
   ]
  },
  {
   "cell_type": "markdown",
   "id": "upper-default",
   "metadata": {},
   "source": [
    "### function for finding index of movies and users"
   ]
  },
  {
   "cell_type": "code",
   "execution_count": null,
   "id": "agricultural-elizabeth",
   "metadata": {},
   "outputs": [],
   "source": [
    "def get_movieid_index(movie_id):\n",
    "    itemindex=np.where(movie_list==movie_id)\n",
    "    return itemindex[0][0]"
   ]
  },
  {
   "cell_type": "code",
   "execution_count": null,
   "id": "front-member",
   "metadata": {},
   "outputs": [],
   "source": [
    "def get_userid_index(user_id):\n",
    "    itemindex=np.where(user_list==user_id)\n",
    "    return itemindex[0][0]"
   ]
  },
  {
   "cell_type": "code",
   "execution_count": null,
   "id": "aquatic-mobility",
   "metadata": {},
   "outputs": [],
   "source": [
    "df2[['user_id','movie_id']]"
   ]
  },
  {
   "cell_type": "code",
   "execution_count": null,
   "id": "oriental-albany",
   "metadata": {},
   "outputs": [],
   "source": [
    "df2['user_id_index']=df2['user_id'].apply(get_userid_index)"
   ]
  },
  {
   "cell_type": "code",
   "execution_count": null,
   "id": "political-coating",
   "metadata": {},
   "outputs": [],
   "source": [
    "df2.columns"
   ]
  },
  {
   "cell_type": "code",
   "execution_count": null,
   "id": "instant-initial",
   "metadata": {},
   "outputs": [],
   "source": [
    "df2['movie_id_index']=df2['movie_id'].apply(get_movieid_index)"
   ]
  },
  {
   "cell_type": "code",
   "execution_count": null,
   "id": "burning-round",
   "metadata": {},
   "outputs": [],
   "source": [
    "df2.columns"
   ]
  },
  {
   "cell_type": "markdown",
   "id": "documented-arthritis",
   "metadata": {},
   "source": [
    "### Changing the column orders"
   ]
  },
  {
   "cell_type": "code",
   "execution_count": null,
   "id": "incorporate-thirty",
   "metadata": {},
   "outputs": [],
   "source": [
    "new_col_order=['user_id_index','movie_id_index','rating']"
   ]
  },
  {
   "cell_type": "code",
   "execution_count": null,
   "id": "coordinated-sheet",
   "metadata": {},
   "outputs": [],
   "source": [
    "df2=df2.reindex(columns=new_col_order)"
   ]
  },
  {
   "cell_type": "code",
   "execution_count": null,
   "id": "painted-romance",
   "metadata": {},
   "outputs": [],
   "source": [
    "df2[['user_id_index','movie_id_index']]"
   ]
  },
  {
   "cell_type": "code",
   "execution_count": null,
   "id": "bored-snowboard",
   "metadata": {
    "scrolled": true
   },
   "outputs": [],
   "source": [
    "df2.head()"
   ]
  },
  {
   "cell_type": "markdown",
   "id": "closed-mercury",
   "metadata": {},
   "source": [
    "### Movies with maximum ratings"
   ]
  },
  {
   "cell_type": "code",
   "execution_count": null,
   "id": "acute-crystal",
   "metadata": {},
   "outputs": [],
   "source": [
    "# Which movies have maximum views/ratings?\n",
    "print(df2['rating'].max())\n",
    "df2.loc[df2['rating'] == df2['rating'].max(), 'movie_id_index']"
   ]
  },
  {
   "cell_type": "code",
   "execution_count": null,
   "id": "prostate-credit",
   "metadata": {
    "scrolled": true
   },
   "outputs": [],
   "source": [
    "df.describe()"
   ]
  },
  {
   "cell_type": "markdown",
   "id": "saved-creek",
   "metadata": {},
   "source": [
    "### Splitting the dataset into train and test"
   ]
  },
  {
   "cell_type": "code",
   "execution_count": null,
   "id": "prescribed-establishment",
   "metadata": {},
   "outputs": [],
   "source": [
    "from sklearn.model_selection import train_test_split\n",
    "train_data,test_data=train_test_split(df2,test_size=0.25)"
   ]
  },
  {
   "cell_type": "markdown",
   "id": "upper-nation",
   "metadata": {},
   "source": [
    "### Creating matrix for calculation"
   ]
  },
  {
   "cell_type": "code",
   "execution_count": null,
   "id": "systematic-northeast",
   "metadata": {},
   "outputs": [],
   "source": [
    "train_data_matrix=np.zeros((n_user,n_movies))"
   ]
  },
  {
   "cell_type": "code",
   "execution_count": null,
   "id": "provincial-ethiopia",
   "metadata": {},
   "outputs": [],
   "source": [
    "train_data_matrix"
   ]
  },
  {
   "cell_type": "code",
   "execution_count": null,
   "id": "valued-determination",
   "metadata": {},
   "outputs": [],
   "source": [
    "train_data"
   ]
  },
  {
   "cell_type": "code",
   "execution_count": null,
   "id": "narrow-culture",
   "metadata": {},
   "outputs": [],
   "source": [
    "test_data_matrix=np.zeros((n_user,n_movies))"
   ]
  },
  {
   "cell_type": "markdown",
   "id": "residential-reference",
   "metadata": {},
   "source": [
    "### Filling the matrix with correct ratings"
   ]
  },
  {
   "cell_type": "code",
   "execution_count": null,
   "id": "rental-burning",
   "metadata": {},
   "outputs": [],
   "source": [
    "for line in train_data.itertuples():\n",
    "    train_data_matrix[line[1]-1,line[2]-1]=line[3]"
   ]
  },
  {
   "cell_type": "code",
   "execution_count": null,
   "id": "marine-margin",
   "metadata": {},
   "outputs": [],
   "source": [
    "test_data_matrix"
   ]
  },
  {
   "cell_type": "code",
   "execution_count": null,
   "id": "prepared-visibility",
   "metadata": {},
   "outputs": [],
   "source": [
    "test_data_matrix"
   ]
  },
  {
   "cell_type": "code",
   "execution_count": null,
   "id": "published-spencer",
   "metadata": {},
   "outputs": [],
   "source": [
    "for line in test_data.itertuples():\n",
    "    test_data_matrix[line[1]-1,line[2]-1]=line[3]"
   ]
  },
  {
   "cell_type": "markdown",
   "id": "clean-spoke",
   "metadata": {},
   "source": [
    "### importing module for calculating similarity "
   ]
  },
  {
   "cell_type": "code",
   "execution_count": null,
   "id": "hidden-cologne",
   "metadata": {},
   "outputs": [],
   "source": [
    "from sklearn.metrics import pairwise_distances"
   ]
  },
  {
   "cell_type": "code",
   "execution_count": null,
   "id": "particular-tomato",
   "metadata": {},
   "outputs": [],
   "source": [
    "user_similarity=pairwise_distances(train_data_matrix,metric='cosine')"
   ]
  },
  {
   "cell_type": "code",
   "execution_count": null,
   "id": "respective-direction",
   "metadata": {},
   "outputs": [],
   "source": [
    "movie_similarity=pairwise_distances(train_data_matrix.T,metric='cosine')"
   ]
  },
  {
   "cell_type": "code",
   "execution_count": null,
   "id": "remarkable-victorian",
   "metadata": {},
   "outputs": [],
   "source": [
    "user_similarity"
   ]
  },
  {
   "cell_type": "code",
   "execution_count": null,
   "id": "common-caribbean",
   "metadata": {
    "scrolled": true
   },
   "outputs": [],
   "source": [
    "movie_similarity"
   ]
  },
  {
   "cell_type": "markdown",
   "id": "agricultural-radius",
   "metadata": {},
   "source": [
    "### Function for predicting the movie rating"
   ]
  },
  {
   "cell_type": "code",
   "execution_count": null,
   "id": "coated-appointment",
   "metadata": {},
   "outputs": [],
   "source": [
    "def predict(ratings, similarity, type='user'):\n",
    "    if type == 'user':\n",
    "        mean_user_rating = ratings.mean(axis=1)\n",
    "        #You use np.newaxis so that mean_user_rating has same format as ratings\n",
    "        ratings_diff = (ratings - mean_user_rating[:, np.newaxis]) \n",
    "        pred = mean_user_rating[:, np.newaxis] + similarity.dot(ratings_diff) / np.array([np.abs(similarity).sum(axis=1)]).T\n",
    "    elif type == 'item':\n",
    "        pred = ratings.dot(similarity) / np.array([np.abs(similarity).sum(axis=1)])     \n",
    "    return pred"
   ]
  },
  {
   "cell_type": "code",
   "execution_count": null,
   "id": "negative-graphics",
   "metadata": {},
   "outputs": [],
   "source": [
    "movie_prediction = predict(train_data_matrix, movie_similarity, type='item')\n",
    "user_prediction = predict(train_data_matrix, user_similarity, type='user')"
   ]
  },
  {
   "cell_type": "code",
   "execution_count": null,
   "id": "departmental-garbage",
   "metadata": {},
   "outputs": [],
   "source": [
    "user_prediction"
   ]
  },
  {
   "cell_type": "code",
   "execution_count": null,
   "id": "desperate-agenda",
   "metadata": {},
   "outputs": [],
   "source": [
    "movie_prediction"
   ]
  },
  {
   "cell_type": "code",
   "execution_count": null,
   "id": "computational-semester",
   "metadata": {},
   "outputs": [],
   "source": [
    "# For user 1 the recommendations are based on similar users\n",
    "count = 0\n",
    "for line in user_prediction:\n",
    "    if count == 10:\n",
    "        break\n",
    "    else:\n",
    "        print(line.argsort()[-5:][::-1])\n",
    "        count +=1"
   ]
  },
  {
   "cell_type": "markdown",
   "id": "european-clerk",
   "metadata": {},
   "source": [
    "### Prediction of perticular user "
   ]
  },
  {
   "cell_type": "code",
   "execution_count": null,
   "id": "brave-heart",
   "metadata": {},
   "outputs": [],
   "source": [
    "# For user 1 the recommendations are based on similar users\n",
    "line = user_prediction[0][:]\n",
    "#arr.argsort()[-3:][::-1]\n",
    "print(\"Recommended movies for user 1 are: \", line.argsort()[-5:][::-1])"
   ]
  },
  {
   "cell_type": "code",
   "execution_count": null,
   "id": "moral-increase",
   "metadata": {},
   "outputs": [],
   "source": [
    "# For user 50 the recommendations are based on similar users\n",
    "line = user_prediction[50][:]\n",
    "#arr.argsort()[-3:][::-1]\n",
    "print(\"Recommended movies for user 50 are: \",line.argsort()[-5:][::-1])"
   ]
  },
  {
   "cell_type": "code",
   "execution_count": null,
   "id": "worst-glance",
   "metadata": {},
   "outputs": [],
   "source": [
    "# For user 1 the recommendations are based on similar movies\n",
    "line = movie_prediction[0][:]\n",
    "#arr.argsort()[-3:][::-1]\n",
    "print(\"Recommended movies for user 1 are: \",line.argsort()[-5:][::-1])"
   ]
  },
  {
   "cell_type": "code",
   "execution_count": null,
   "id": "choice-composition",
   "metadata": {},
   "outputs": [],
   "source": [
    "# For user 50 the recommendations are based on similar movies\n",
    "line = movie_prediction[50][:]\n",
    "#arr.argsort()[-3:][::-1]\n",
    "print(\"Recommended movies for user 50 are: \",line.argsort()[-5:][::-1])"
   ]
  },
  {
   "cell_type": "code",
   "execution_count": null,
   "id": "progressive-equivalent",
   "metadata": {},
   "outputs": [],
   "source": []
  }
 ],
 "metadata": {
  "kernelspec": {
   "display_name": "Python 3",
   "language": "python",
   "name": "python3"
  },
  "language_info": {
   "codemirror_mode": {
    "name": "ipython",
    "version": 3
   },
   "file_extension": ".py",
   "mimetype": "text/x-python",
   "name": "python",
   "nbconvert_exporter": "python",
   "pygments_lexer": "ipython3",
   "version": "3.7.10"
  }
 },
 "nbformat": 4,
 "nbformat_minor": 5
}
